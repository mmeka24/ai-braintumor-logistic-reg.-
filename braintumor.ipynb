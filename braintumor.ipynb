{
 "cells": [
  {
   "cell_type": "code",
   "execution_count": 236,
   "id": "0aa35cc3-3454-45d0-900a-92b6b511b26e",
   "metadata": {},
   "outputs": [],
   "source": [
    "import numpy as np\n",
    "import matplotlib.pyplot as plt\n",
    "import pandas as pd\n",
    "import tensorflow as tf\n",
    "from sklearn.model_selection import train_test_split\n",
    "from sklearn.preprocessing import StandardScaler\n",
    "from sklearn.metrics import classification_report, confusion_matrix\n",
    "from sklearn.linear_model import LogisticRegression\n",
    "from keras.layers import Dense, Flatten, Conv2D, MaxPooling2D\n",
    "from keras.models import Sequential\n"
   ]
  },
  {
   "cell_type": "code",
   "execution_count": 237,
   "id": "4cc74dd4-a10a-4058-86f3-0e921604e742",
   "metadata": {},
   "outputs": [],
   "source": [
    "df = pd.read_csv('Brain Tumor.csv')"
   ]
  },
  {
   "cell_type": "code",
   "execution_count": 238,
   "id": "64ba2008-99d7-4501-83af-57957298680c",
   "metadata": {},
   "outputs": [
    {
     "name": "stdout",
     "output_type": "stream",
     "text": [
      "    Image  Class      Mean     Variance  Standard Deviation   Entropy  \\\n",
      "0  Image1      0  6.535339   619.587845           24.891522  0.109059   \n",
      "1  Image2      0  8.749969   805.957634           28.389393  0.266538   \n",
      "2  Image3      1  7.341095  1143.808219           33.820234  0.001467   \n",
      "3  Image4      1  5.958145   959.711985           30.979219  0.001477   \n",
      "4  Image5      0  7.315231   729.540579           27.010009  0.146761   \n",
      "\n",
      "   Skewness   Kurtosis    Contrast    Energy       ASM  Homogeneity  \\\n",
      "0  4.276477  18.900575   98.613971  0.293314  0.086033     0.530941   \n",
      "1  3.718116  14.464618   63.858816  0.475051  0.225674     0.651352   \n",
      "2  5.061750  26.479563   81.867206  0.031917  0.001019     0.268275   \n",
      "3  5.677977  33.428845  151.229741  0.032024  0.001026     0.243851   \n",
      "4  4.283221  19.079108  174.988756  0.343849  0.118232     0.501140   \n",
      "\n",
      "   Dissimilarity  Correlation     Coarseness  \n",
      "0       4.473346     0.981939  7.458341e-155  \n",
      "1       3.220072     0.988834  7.458341e-155  \n",
      "2       5.981800     0.978014  7.458341e-155  \n",
      "3       7.700919     0.964189  7.458341e-155  \n",
      "4       6.834689     0.972789  7.458341e-155  \n"
     ]
    }
   ],
   "source": [
    "print(df.head())"
   ]
  },
  {
   "cell_type": "code",
   "execution_count": 239,
   "id": "2ff3c78e-9ddc-41cc-8176-84abbdfc6277",
   "metadata": {},
   "outputs": [
    {
     "data": {
      "text/html": [
       "<div>\n",
       "<style scoped>\n",
       "    .dataframe tbody tr th:only-of-type {\n",
       "        vertical-align: middle;\n",
       "    }\n",
       "\n",
       "    .dataframe tbody tr th {\n",
       "        vertical-align: top;\n",
       "    }\n",
       "\n",
       "    .dataframe thead th {\n",
       "        text-align: right;\n",
       "    }\n",
       "</style>\n",
       "<table border=\"1\" class=\"dataframe\">\n",
       "  <thead>\n",
       "    <tr style=\"text-align: right;\">\n",
       "      <th></th>\n",
       "      <th>Image</th>\n",
       "      <th>Class</th>\n",
       "      <th>Mean</th>\n",
       "      <th>Variance</th>\n",
       "      <th>Standard Deviation</th>\n",
       "      <th>Entropy</th>\n",
       "      <th>Skewness</th>\n",
       "      <th>Kurtosis</th>\n",
       "      <th>Contrast</th>\n",
       "      <th>Energy</th>\n",
       "      <th>ASM</th>\n",
       "      <th>Homogeneity</th>\n",
       "      <th>Dissimilarity</th>\n",
       "      <th>Correlation</th>\n",
       "      <th>Coarseness</th>\n",
       "    </tr>\n",
       "  </thead>\n",
       "  <tbody>\n",
       "    <tr>\n",
       "      <th>3757</th>\n",
       "      <td>Image3758</td>\n",
       "      <td>0</td>\n",
       "      <td>21.234512</td>\n",
       "      <td>1208.850174</td>\n",
       "      <td>34.768523</td>\n",
       "      <td>0.063774</td>\n",
       "      <td>2.082079</td>\n",
       "      <td>4.647310</td>\n",
       "      <td>158.437600</td>\n",
       "      <td>0.220666</td>\n",
       "      <td>0.048693</td>\n",
       "      <td>0.487131</td>\n",
       "      <td>5.211739</td>\n",
       "      <td>0.950972</td>\n",
       "      <td>7.458341e-155</td>\n",
       "    </tr>\n",
       "    <tr>\n",
       "      <th>3758</th>\n",
       "      <td>Image3759</td>\n",
       "      <td>0</td>\n",
       "      <td>20.435349</td>\n",
       "      <td>1227.151440</td>\n",
       "      <td>35.030721</td>\n",
       "      <td>0.066763</td>\n",
       "      <td>2.144625</td>\n",
       "      <td>4.882034</td>\n",
       "      <td>161.158675</td>\n",
       "      <td>0.225931</td>\n",
       "      <td>0.051045</td>\n",
       "      <td>0.502712</td>\n",
       "      <td>5.083126</td>\n",
       "      <td>0.952749</td>\n",
       "      <td>7.458341e-155</td>\n",
       "    </tr>\n",
       "    <tr>\n",
       "      <th>3759</th>\n",
       "      <td>Image3760</td>\n",
       "      <td>0</td>\n",
       "      <td>18.011520</td>\n",
       "      <td>1151.582765</td>\n",
       "      <td>33.934978</td>\n",
       "      <td>0.068396</td>\n",
       "      <td>2.308349</td>\n",
       "      <td>5.579498</td>\n",
       "      <td>167.130118</td>\n",
       "      <td>0.228930</td>\n",
       "      <td>0.052409</td>\n",
       "      <td>0.492269</td>\n",
       "      <td>5.103700</td>\n",
       "      <td>0.952181</td>\n",
       "      <td>7.458341e-155</td>\n",
       "    </tr>\n",
       "    <tr>\n",
       "      <th>3760</th>\n",
       "      <td>Image3761</td>\n",
       "      <td>0</td>\n",
       "      <td>13.330429</td>\n",
       "      <td>945.732779</td>\n",
       "      <td>30.752769</td>\n",
       "      <td>0.087872</td>\n",
       "      <td>2.732822</td>\n",
       "      <td>7.757570</td>\n",
       "      <td>223.812932</td>\n",
       "      <td>0.261527</td>\n",
       "      <td>0.068397</td>\n",
       "      <td>0.480064</td>\n",
       "      <td>6.439784</td>\n",
       "      <td>0.940898</td>\n",
       "      <td>7.458341e-155</td>\n",
       "    </tr>\n",
       "    <tr>\n",
       "      <th>3761</th>\n",
       "      <td>Image3762</td>\n",
       "      <td>0</td>\n",
       "      <td>6.110138</td>\n",
       "      <td>480.884025</td>\n",
       "      <td>21.929068</td>\n",
       "      <td>0.118171</td>\n",
       "      <td>4.110669</td>\n",
       "      <td>17.538826</td>\n",
       "      <td>239.251388</td>\n",
       "      <td>0.306224</td>\n",
       "      <td>0.093773</td>\n",
       "      <td>0.494333</td>\n",
       "      <td>6.787329</td>\n",
       "      <td>0.938731</td>\n",
       "      <td>7.458341e-155</td>\n",
       "    </tr>\n",
       "  </tbody>\n",
       "</table>\n",
       "</div>"
      ],
      "text/plain": [
       "          Image  Class       Mean     Variance  Standard Deviation   Entropy  \\\n",
       "3757  Image3758      0  21.234512  1208.850174           34.768523  0.063774   \n",
       "3758  Image3759      0  20.435349  1227.151440           35.030721  0.066763   \n",
       "3759  Image3760      0  18.011520  1151.582765           33.934978  0.068396   \n",
       "3760  Image3761      0  13.330429   945.732779           30.752769  0.087872   \n",
       "3761  Image3762      0   6.110138   480.884025           21.929068  0.118171   \n",
       "\n",
       "      Skewness   Kurtosis    Contrast    Energy       ASM  Homogeneity  \\\n",
       "3757  2.082079   4.647310  158.437600  0.220666  0.048693     0.487131   \n",
       "3758  2.144625   4.882034  161.158675  0.225931  0.051045     0.502712   \n",
       "3759  2.308349   5.579498  167.130118  0.228930  0.052409     0.492269   \n",
       "3760  2.732822   7.757570  223.812932  0.261527  0.068397     0.480064   \n",
       "3761  4.110669  17.538826  239.251388  0.306224  0.093773     0.494333   \n",
       "\n",
       "      Dissimilarity  Correlation     Coarseness  \n",
       "3757       5.211739     0.950972  7.458341e-155  \n",
       "3758       5.083126     0.952749  7.458341e-155  \n",
       "3759       5.103700     0.952181  7.458341e-155  \n",
       "3760       6.439784     0.940898  7.458341e-155  \n",
       "3761       6.787329     0.938731  7.458341e-155  "
      ]
     },
     "execution_count": 239,
     "metadata": {},
     "output_type": "execute_result"
    }
   ],
   "source": [
    "df.tail()"
   ]
  },
  {
   "cell_type": "code",
   "execution_count": 240,
   "id": "1d56d3e2-4583-4fe3-ae72-7bd1a08d5334",
   "metadata": {},
   "outputs": [
    {
     "data": {
      "text/plain": [
       "Image                  object\n",
       "Class                   int64\n",
       "Mean                  float64\n",
       "Variance              float64\n",
       "Standard Deviation    float64\n",
       "Entropy               float64\n",
       "Skewness              float64\n",
       "Kurtosis              float64\n",
       "Contrast              float64\n",
       "Energy                float64\n",
       "ASM                   float64\n",
       "Homogeneity           float64\n",
       "Dissimilarity         float64\n",
       "Correlation           float64\n",
       "Coarseness            float64\n",
       "dtype: object"
      ]
     },
     "execution_count": 240,
     "metadata": {},
     "output_type": "execute_result"
    }
   ],
   "source": [
    "df.dtypes\n"
   ]
  },
  {
   "cell_type": "code",
   "execution_count": 241,
   "id": "5459684e-a2bc-4bd1-a9c0-bbfd4c4bc35c",
   "metadata": {},
   "outputs": [
    {
     "data": {
      "text/plain": [
       "3762"
      ]
     },
     "execution_count": 241,
     "metadata": {},
     "output_type": "execute_result"
    }
   ],
   "source": [
    "#3762 images in the ds \n",
    "len(df)"
   ]
  },
  {
   "cell_type": "code",
   "execution_count": 242,
   "id": "398455d0-1e0e-4e28-a4d4-a6859ebf1c62",
   "metadata": {},
   "outputs": [
    {
     "data": {
      "text/html": [
       "<div>\n",
       "<style scoped>\n",
       "    .dataframe tbody tr th:only-of-type {\n",
       "        vertical-align: middle;\n",
       "    }\n",
       "\n",
       "    .dataframe tbody tr th {\n",
       "        vertical-align: top;\n",
       "    }\n",
       "\n",
       "    .dataframe thead th {\n",
       "        text-align: right;\n",
       "    }\n",
       "</style>\n",
       "<table border=\"1\" class=\"dataframe\">\n",
       "  <thead>\n",
       "    <tr style=\"text-align: right;\">\n",
       "      <th></th>\n",
       "      <th>Class</th>\n",
       "      <th>Mean</th>\n",
       "      <th>Variance</th>\n",
       "      <th>Standard Deviation</th>\n",
       "      <th>Entropy</th>\n",
       "      <th>Skewness</th>\n",
       "      <th>Kurtosis</th>\n",
       "      <th>Contrast</th>\n",
       "      <th>Energy</th>\n",
       "      <th>ASM</th>\n",
       "      <th>Homogeneity</th>\n",
       "      <th>Dissimilarity</th>\n",
       "      <th>Correlation</th>\n",
       "      <th>Coarseness</th>\n",
       "    </tr>\n",
       "  </thead>\n",
       "  <tbody>\n",
       "    <tr>\n",
       "      <th>count</th>\n",
       "      <td>3762.000000</td>\n",
       "      <td>3762.000000</td>\n",
       "      <td>3762.000000</td>\n",
       "      <td>3762.000000</td>\n",
       "      <td>3762.000000</td>\n",
       "      <td>3762.000000</td>\n",
       "      <td>3762.000000</td>\n",
       "      <td>3762.000000</td>\n",
       "      <td>3762.000000</td>\n",
       "      <td>3762.000000</td>\n",
       "      <td>3762.000000</td>\n",
       "      <td>3762.000000</td>\n",
       "      <td>3762.000000</td>\n",
       "      <td>3.762000e+03</td>\n",
       "    </tr>\n",
       "    <tr>\n",
       "      <th>mean</th>\n",
       "      <td>0.447368</td>\n",
       "      <td>9.488890</td>\n",
       "      <td>711.101063</td>\n",
       "      <td>25.182271</td>\n",
       "      <td>0.073603</td>\n",
       "      <td>4.102727</td>\n",
       "      <td>24.389071</td>\n",
       "      <td>127.961459</td>\n",
       "      <td>0.204705</td>\n",
       "      <td>0.058632</td>\n",
       "      <td>0.479252</td>\n",
       "      <td>4.698498</td>\n",
       "      <td>0.955767</td>\n",
       "      <td>7.458341e-155</td>\n",
       "    </tr>\n",
       "    <tr>\n",
       "      <th>std</th>\n",
       "      <td>0.497288</td>\n",
       "      <td>5.728022</td>\n",
       "      <td>467.466896</td>\n",
       "      <td>8.773526</td>\n",
       "      <td>0.070269</td>\n",
       "      <td>2.560940</td>\n",
       "      <td>56.434747</td>\n",
       "      <td>109.499601</td>\n",
       "      <td>0.129352</td>\n",
       "      <td>0.058300</td>\n",
       "      <td>0.127929</td>\n",
       "      <td>1.850173</td>\n",
       "      <td>0.026157</td>\n",
       "      <td>0.000000e+00</td>\n",
       "    </tr>\n",
       "    <tr>\n",
       "      <th>min</th>\n",
       "      <td>0.000000</td>\n",
       "      <td>0.078659</td>\n",
       "      <td>3.145628</td>\n",
       "      <td>1.773592</td>\n",
       "      <td>0.000882</td>\n",
       "      <td>1.886014</td>\n",
       "      <td>3.942402</td>\n",
       "      <td>3.194733</td>\n",
       "      <td>0.024731</td>\n",
       "      <td>0.000612</td>\n",
       "      <td>0.105490</td>\n",
       "      <td>0.681121</td>\n",
       "      <td>0.549426</td>\n",
       "      <td>7.458341e-155</td>\n",
       "    </tr>\n",
       "    <tr>\n",
       "      <th>25%</th>\n",
       "      <td>0.000000</td>\n",
       "      <td>4.982395</td>\n",
       "      <td>363.225459</td>\n",
       "      <td>19.058475</td>\n",
       "      <td>0.006856</td>\n",
       "      <td>2.620203</td>\n",
       "      <td>7.252852</td>\n",
       "      <td>72.125208</td>\n",
       "      <td>0.069617</td>\n",
       "      <td>0.004847</td>\n",
       "      <td>0.364973</td>\n",
       "      <td>3.412363</td>\n",
       "      <td>0.947138</td>\n",
       "      <td>7.458341e-155</td>\n",
       "    </tr>\n",
       "    <tr>\n",
       "      <th>50%</th>\n",
       "      <td>0.000000</td>\n",
       "      <td>8.477531</td>\n",
       "      <td>622.580417</td>\n",
       "      <td>24.951560</td>\n",
       "      <td>0.066628</td>\n",
       "      <td>3.422210</td>\n",
       "      <td>12.359088</td>\n",
       "      <td>106.737418</td>\n",
       "      <td>0.225496</td>\n",
       "      <td>0.050849</td>\n",
       "      <td>0.512551</td>\n",
       "      <td>4.482404</td>\n",
       "      <td>0.961610</td>\n",
       "      <td>7.458341e-155</td>\n",
       "    </tr>\n",
       "    <tr>\n",
       "      <th>75%</th>\n",
       "      <td>1.000000</td>\n",
       "      <td>13.212723</td>\n",
       "      <td>966.954319</td>\n",
       "      <td>31.095889</td>\n",
       "      <td>0.113284</td>\n",
       "      <td>4.651737</td>\n",
       "      <td>22.640304</td>\n",
       "      <td>161.059006</td>\n",
       "      <td>0.298901</td>\n",
       "      <td>0.089342</td>\n",
       "      <td>0.575557</td>\n",
       "      <td>5.723821</td>\n",
       "      <td>0.971355</td>\n",
       "      <td>7.458341e-155</td>\n",
       "    </tr>\n",
       "    <tr>\n",
       "      <th>max</th>\n",
       "      <td>1.000000</td>\n",
       "      <td>33.239975</td>\n",
       "      <td>2910.581879</td>\n",
       "      <td>53.949809</td>\n",
       "      <td>0.394539</td>\n",
       "      <td>36.931294</td>\n",
       "      <td>1371.640060</td>\n",
       "      <td>3382.574163</td>\n",
       "      <td>0.589682</td>\n",
       "      <td>0.347725</td>\n",
       "      <td>0.810921</td>\n",
       "      <td>27.827751</td>\n",
       "      <td>0.989972</td>\n",
       "      <td>7.458341e-155</td>\n",
       "    </tr>\n",
       "  </tbody>\n",
       "</table>\n",
       "</div>"
      ],
      "text/plain": [
       "             Class         Mean     Variance  Standard Deviation      Entropy  \\\n",
       "count  3762.000000  3762.000000  3762.000000         3762.000000  3762.000000   \n",
       "mean      0.447368     9.488890   711.101063           25.182271     0.073603   \n",
       "std       0.497288     5.728022   467.466896            8.773526     0.070269   \n",
       "min       0.000000     0.078659     3.145628            1.773592     0.000882   \n",
       "25%       0.000000     4.982395   363.225459           19.058475     0.006856   \n",
       "50%       0.000000     8.477531   622.580417           24.951560     0.066628   \n",
       "75%       1.000000    13.212723   966.954319           31.095889     0.113284   \n",
       "max       1.000000    33.239975  2910.581879           53.949809     0.394539   \n",
       "\n",
       "          Skewness     Kurtosis     Contrast       Energy          ASM  \\\n",
       "count  3762.000000  3762.000000  3762.000000  3762.000000  3762.000000   \n",
       "mean      4.102727    24.389071   127.961459     0.204705     0.058632   \n",
       "std       2.560940    56.434747   109.499601     0.129352     0.058300   \n",
       "min       1.886014     3.942402     3.194733     0.024731     0.000612   \n",
       "25%       2.620203     7.252852    72.125208     0.069617     0.004847   \n",
       "50%       3.422210    12.359088   106.737418     0.225496     0.050849   \n",
       "75%       4.651737    22.640304   161.059006     0.298901     0.089342   \n",
       "max      36.931294  1371.640060  3382.574163     0.589682     0.347725   \n",
       "\n",
       "       Homogeneity  Dissimilarity  Correlation     Coarseness  \n",
       "count  3762.000000    3762.000000  3762.000000   3.762000e+03  \n",
       "mean      0.479252       4.698498     0.955767  7.458341e-155  \n",
       "std       0.127929       1.850173     0.026157   0.000000e+00  \n",
       "min       0.105490       0.681121     0.549426  7.458341e-155  \n",
       "25%       0.364973       3.412363     0.947138  7.458341e-155  \n",
       "50%       0.512551       4.482404     0.961610  7.458341e-155  \n",
       "75%       0.575557       5.723821     0.971355  7.458341e-155  \n",
       "max       0.810921      27.827751     0.989972  7.458341e-155  "
      ]
     },
     "execution_count": 242,
     "metadata": {},
     "output_type": "execute_result"
    }
   ],
   "source": [
    "df.describe()"
   ]
  },
  {
   "cell_type": "code",
   "execution_count": 243,
   "id": "5d87baaa-2a31-44ec-917c-22cb75831515",
   "metadata": {},
   "outputs": [],
   "source": [
    "#drops image and class so it only contains input info\n",
    "X = df.drop(['Image', 'Class'], axis=1)\n",
    "#predicting the class aka y or n brain tumor as the y var \n",
    "y = df['Class']"
   ]
  },
  {
   "cell_type": "code",
   "execution_count": 244,
   "id": "31818c17-596e-4f8f-b083-c3ff27c56855",
   "metadata": {},
   "outputs": [
    {
     "name": "stdout",
     "output_type": "stream",
     "text": [
      "           Mean     Variance  Standard Deviation   Entropy  Skewness  \\\n",
      "0      6.535339   619.587845           24.891522  0.109059  4.276477   \n",
      "1      8.749969   805.957634           28.389393  0.266538  3.718116   \n",
      "2      7.341095  1143.808219           33.820234  0.001467  5.061750   \n",
      "3      5.958145   959.711985           30.979219  0.001477  5.677977   \n",
      "4      7.315231   729.540579           27.010009  0.146761  4.283221   \n",
      "...         ...          ...                 ...       ...       ...   \n",
      "3757  21.234512  1208.850174           34.768523  0.063774  2.082079   \n",
      "3758  20.435349  1227.151440           35.030721  0.066763  2.144625   \n",
      "3759  18.011520  1151.582765           33.934978  0.068396  2.308349   \n",
      "3760  13.330429   945.732779           30.752769  0.087872  2.732822   \n",
      "3761   6.110138   480.884025           21.929068  0.118171  4.110669   \n",
      "\n",
      "       Kurtosis    Contrast    Energy       ASM  Homogeneity  Dissimilarity  \\\n",
      "0     18.900575   98.613971  0.293314  0.086033     0.530941       4.473346   \n",
      "1     14.464618   63.858816  0.475051  0.225674     0.651352       3.220072   \n",
      "2     26.479563   81.867206  0.031917  0.001019     0.268275       5.981800   \n",
      "3     33.428845  151.229741  0.032024  0.001026     0.243851       7.700919   \n",
      "4     19.079108  174.988756  0.343849  0.118232     0.501140       6.834689   \n",
      "...         ...         ...       ...       ...          ...            ...   \n",
      "3757   4.647310  158.437600  0.220666  0.048693     0.487131       5.211739   \n",
      "3758   4.882034  161.158675  0.225931  0.051045     0.502712       5.083126   \n",
      "3759   5.579498  167.130118  0.228930  0.052409     0.492269       5.103700   \n",
      "3760   7.757570  223.812932  0.261527  0.068397     0.480064       6.439784   \n",
      "3761  17.538826  239.251388  0.306224  0.093773     0.494333       6.787329   \n",
      "\n",
      "      Correlation     Coarseness  \n",
      "0        0.981939  7.458341e-155  \n",
      "1        0.988834  7.458341e-155  \n",
      "2        0.978014  7.458341e-155  \n",
      "3        0.964189  7.458341e-155  \n",
      "4        0.972789  7.458341e-155  \n",
      "...           ...            ...  \n",
      "3757     0.950972  7.458341e-155  \n",
      "3758     0.952749  7.458341e-155  \n",
      "3759     0.952181  7.458341e-155  \n",
      "3760     0.940898  7.458341e-155  \n",
      "3761     0.938731  7.458341e-155  \n",
      "\n",
      "[3762 rows x 13 columns]\n",
      "[[6.53533936e+000 6.19587845e+002 2.48915215e+001 ... 4.47334559e+000\n",
      "  9.81938697e-001 7.45834073e-155]\n",
      " [8.74996948e+000 8.05957634e+002 2.83893930e+001 ... 3.22007157e+000\n",
      "  9.88834396e-001 7.45834073e-155]\n",
      " [7.34109497e+000 1.14380822e+003 3.38202339e+001 ... 5.98179980e+000\n",
      "  9.78013693e-001 7.45834073e-155]\n",
      " ...\n",
      " [1.80115204e+001 1.15158276e+003 3.39349785e+001 ... 5.10369972e+000\n",
      "  9.52181237e-001 7.45834073e-155]\n",
      " [1.33304291e+001 9.45732779e+002 3.07527686e+001 ... 6.43978421e+000\n",
      "  9.40898110e-001 7.45834073e-155]\n",
      " [6.11013794e+000 4.80884025e+002 2.19290680e+001 ... 6.78732909e+000\n",
      "  9.38730786e-001 7.45834073e-155]]\n"
     ]
    }
   ],
   "source": [
    "scaler = StandardScaler()\n",
    "X_scaled = scaler.fit_transform(X)\n",
    "print(X)\n",
    "print(scaler.inverse_transform(X_scaled))"
   ]
  },
  {
   "cell_type": "code",
   "execution_count": 245,
   "id": "63b8ac67-6cb0-4b06-9ac3-02d5b5a692ca",
   "metadata": {},
   "outputs": [],
   "source": [
    "#split data into training and test sets\n",
    "X_train, X_test, y_train, y_test = train_test_split(X_scaled, y, test_size=0.2, random_state=42)\n"
   ]
  },
  {
   "cell_type": "code",
   "execution_count": 246,
   "id": "734d2e54-b8c9-4aa1-819e-47072621c15f",
   "metadata": {},
   "outputs": [],
   "source": [
    "logistic_model = LogisticRegression(random_state=42)\n",
    "logistic_model.fit(X_train, y_train)\n",
    "y_pred_logistic = logistic_model.predict(X_test)"
   ]
  },
  {
   "cell_type": "code",
   "execution_count": 247,
   "id": "a8898b3e-11f5-45d5-bc76-da48daef6674",
   "metadata": {
    "scrolled": true
   },
   "outputs": [
    {
     "name": "stdout",
     "output_type": "stream",
     "text": [
      "Logistic Regression Evaluation:\n",
      "              precision    recall  f1-score   support\n",
      "\n",
      "           0       0.98      0.99      0.98       419\n",
      "           1       0.98      0.97      0.98       334\n",
      "\n",
      "    accuracy                           0.98       753\n",
      "   macro avg       0.98      0.98      0.98       753\n",
      "weighted avg       0.98      0.98      0.98       753\n",
      "\n",
      "[[414   5]\n",
      " [  9 325]]\n"
     ]
    }
   ],
   "source": [
    "print(\"Logistic Regression Evaluation:\")\n",
    "print(classification_report(y_test, y_pred_logistic))\n",
    "print(confusion_matrix(y_test, y_pred_logistic))"
   ]
  },
  {
   "cell_type": "code",
   "execution_count": 248,
   "id": "08bf0868-6ef8-438b-930a-d8eccfb46d42",
   "metadata": {},
   "outputs": [],
   "source": [
    "X_visualization = X_scaled[:, :2]\n"
   ]
  },
  {
   "cell_type": "code",
   "execution_count": 249,
   "id": "2454db0b-a352-4977-a785-e06c75225a4d",
   "metadata": {},
   "outputs": [
    {
     "data": {
      "text/html": [
       "<style>#sk-container-id-7 {color: black;background-color: white;}#sk-container-id-7 pre{padding: 0;}#sk-container-id-7 div.sk-toggleable {background-color: white;}#sk-container-id-7 label.sk-toggleable__label {cursor: pointer;display: block;width: 100%;margin-bottom: 0;padding: 0.3em;box-sizing: border-box;text-align: center;}#sk-container-id-7 label.sk-toggleable__label-arrow:before {content: \"▸\";float: left;margin-right: 0.25em;color: #696969;}#sk-container-id-7 label.sk-toggleable__label-arrow:hover:before {color: black;}#sk-container-id-7 div.sk-estimator:hover label.sk-toggleable__label-arrow:before {color: black;}#sk-container-id-7 div.sk-toggleable__content {max-height: 0;max-width: 0;overflow: hidden;text-align: left;background-color: #f0f8ff;}#sk-container-id-7 div.sk-toggleable__content pre {margin: 0.2em;color: black;border-radius: 0.25em;background-color: #f0f8ff;}#sk-container-id-7 input.sk-toggleable__control:checked~div.sk-toggleable__content {max-height: 200px;max-width: 100%;overflow: auto;}#sk-container-id-7 input.sk-toggleable__control:checked~label.sk-toggleable__label-arrow:before {content: \"▾\";}#sk-container-id-7 div.sk-estimator input.sk-toggleable__control:checked~label.sk-toggleable__label {background-color: #d4ebff;}#sk-container-id-7 div.sk-label input.sk-toggleable__control:checked~label.sk-toggleable__label {background-color: #d4ebff;}#sk-container-id-7 input.sk-hidden--visually {border: 0;clip: rect(1px 1px 1px 1px);clip: rect(1px, 1px, 1px, 1px);height: 1px;margin: -1px;overflow: hidden;padding: 0;position: absolute;width: 1px;}#sk-container-id-7 div.sk-estimator {font-family: monospace;background-color: #f0f8ff;border: 1px dotted black;border-radius: 0.25em;box-sizing: border-box;margin-bottom: 0.5em;}#sk-container-id-7 div.sk-estimator:hover {background-color: #d4ebff;}#sk-container-id-7 div.sk-parallel-item::after {content: \"\";width: 100%;border-bottom: 1px solid gray;flex-grow: 1;}#sk-container-id-7 div.sk-label:hover label.sk-toggleable__label {background-color: #d4ebff;}#sk-container-id-7 div.sk-serial::before {content: \"\";position: absolute;border-left: 1px solid gray;box-sizing: border-box;top: 0;bottom: 0;left: 50%;z-index: 0;}#sk-container-id-7 div.sk-serial {display: flex;flex-direction: column;align-items: center;background-color: white;padding-right: 0.2em;padding-left: 0.2em;position: relative;}#sk-container-id-7 div.sk-item {position: relative;z-index: 1;}#sk-container-id-7 div.sk-parallel {display: flex;align-items: stretch;justify-content: center;background-color: white;position: relative;}#sk-container-id-7 div.sk-item::before, #sk-container-id-7 div.sk-parallel-item::before {content: \"\";position: absolute;border-left: 1px solid gray;box-sizing: border-box;top: 0;bottom: 0;left: 50%;z-index: -1;}#sk-container-id-7 div.sk-parallel-item {display: flex;flex-direction: column;z-index: 1;position: relative;background-color: white;}#sk-container-id-7 div.sk-parallel-item:first-child::after {align-self: flex-end;width: 50%;}#sk-container-id-7 div.sk-parallel-item:last-child::after {align-self: flex-start;width: 50%;}#sk-container-id-7 div.sk-parallel-item:only-child::after {width: 0;}#sk-container-id-7 div.sk-dashed-wrapped {border: 1px dashed gray;margin: 0 0.4em 0.5em 0.4em;box-sizing: border-box;padding-bottom: 0.4em;background-color: white;}#sk-container-id-7 div.sk-label label {font-family: monospace;font-weight: bold;display: inline-block;line-height: 1.2em;}#sk-container-id-7 div.sk-label-container {text-align: center;}#sk-container-id-7 div.sk-container {/* jupyter's `normalize.less` sets `[hidden] { display: none; }` but bootstrap.min.css set `[hidden] { display: none !important; }` so we also need the `!important` here to be able to override the default hidden behavior on the sphinx rendered scikit-learn.org. See: https://github.com/scikit-learn/scikit-learn/issues/21755 */display: inline-block !important;position: relative;}#sk-container-id-7 div.sk-text-repr-fallback {display: none;}</style><div id=\"sk-container-id-7\" class=\"sk-top-container\"><div class=\"sk-text-repr-fallback\"><pre>LogisticRegression(random_state=42)</pre><b>In a Jupyter environment, please rerun this cell to show the HTML representation or trust the notebook. <br />On GitHub, the HTML representation is unable to render, please try loading this page with nbviewer.org.</b></div><div class=\"sk-container\" hidden><div class=\"sk-item\"><div class=\"sk-estimator sk-toggleable\"><input class=\"sk-toggleable__control sk-hidden--visually\" id=\"sk-estimator-id-7\" type=\"checkbox\" checked><label for=\"sk-estimator-id-7\" class=\"sk-toggleable__label sk-toggleable__label-arrow\">LogisticRegression</label><div class=\"sk-toggleable__content\"><pre>LogisticRegression(random_state=42)</pre></div></div></div></div></div>"
      ],
      "text/plain": [
       "LogisticRegression(random_state=42)"
      ]
     },
     "execution_count": 249,
     "metadata": {},
     "output_type": "execute_result"
    }
   ],
   "source": [
    "logistic_model_visualization = LogisticRegression(random_state=42)\n",
    "logistic_model_visualization.fit(X_visualization, y)\n"
   ]
  },
  {
   "cell_type": "code",
   "execution_count": 250,
   "id": "7b50ed34-c055-4fae-8cdf-4d32d201c740",
   "metadata": {},
   "outputs": [],
   "source": [
    "x_min, x_max = X_visualization[:, 0].min() - 1, X_visualization[:, 0].max() + 1\n",
    "y_min, y_max = y[:].min(), y[:].max()\n",
    "xx, yy = np.meshgrid(np.arange(x_min, x_max, 0.1),\n",
    "                     np.arange(y_min, y_max, 0.1))"
   ]
  },
  {
   "cell_type": "code",
   "execution_count": 251,
   "id": "d3748a9b-8c92-4b56-932d-40ee72b47a8f",
   "metadata": {},
   "outputs": [],
   "source": [
    "Z = logistic_model_visualization.predict(np.c_[xx.ravel(), yy.ravel()])\n",
    "Z_out = Z\n",
    "Z = Z.reshape(xx.shape)"
   ]
  },
  {
   "cell_type": "code",
   "execution_count": 224,
   "id": "e7e5dbff-e8d0-43ff-8274-b960691c7343",
   "metadata": {
    "scrolled": true
   },
   "outputs": [
    {
     "data": {
      "image/png": "[encoded data removed]",
      "text/plain": [
       "<Figure size 1000x800 with 2 Axes>"
      ]
     },
     "metadata": {},
     "output_type": "display_data"
    }
   ],
   "source": [
    "plt.figure(figsize=(10, 8))\n",
    "plt.contourf(xx, yy, Z, alpha=0.4)\n",
    "plt.scatter(X_scaled[:, 7], y, s=20, edgecolor='k')\n",
    "plt.xlabel(X.columns[7])\n",
    "plt.ylabel('Class')\n",
    "plt.title('Decision Boundary of Logistic Regression')\n",
    "plt.colorbar()\n",
    "plt.show()\n"
   ]
  },
  {
   "cell_type": "code",
   "execution_count": 255,
   "id": "c5f406ed-743e-4405-926b-cf355a520094",
   "metadata": {
    "scrolled": true
   },
   "outputs": [
    {
     "name": "stdout",
     "output_type": "stream",
     "text": [
      "Prediction for image 31: [0]\n"
     ]
    }
   ],
   "source": [
    "test_image_index = 30 \n",
    "test_data = X_test[test_image_index].reshape(1, -1)  # Reshape to 2D array\n",
    "test_data_prediction = logistic_model.predict(test_data)\n",
    "print(\"Prediction for image 31:\", test_data_prediction)"
   ]
  },
  {
   "cell_type": "code",
   "execution_count": 226,
   "id": "f8d61fc1-91a2-4942-9a71-b49826eff7f1",
   "metadata": {},
   "outputs": [
    {
     "name": "stdout",
     "output_type": "stream",
     "text": [
      "\n",
      "Logistic Regression Model Summary:\n",
      "Intercept: [0.76929755]\n",
      "Coefficients: [[-6.05294284e-001  1.80587423e-001  1.12284963e+000 -9.86001490e-001\n",
      "   3.71723549e+000 -2.16282511e-001  1.58051572e+000 -3.97996258e+000\n",
      "  -3.15098596e-001 -3.38823302e+000 -2.14673548e+000  1.37612381e+000\n",
      "   5.20791854e-167]]\n"
     ]
    }
   ],
   "source": [
    "print(\"\\nLogistic Regression Model Summary:\")\n",
    "print(\"Intercept:\", logistic_model.intercept_)\n",
    "print(\"Coefficients:\", logistic_model.coef_)"
   ]
  },
  {
   "cell_type": "code",
   "execution_count": null,
   "id": "0fc2ba03-a204-420c-834a-d34517e0246a",
   "metadata": {},
   "outputs": [],
   "source": []
  },
  {
   "cell_type": "code",
   "execution_count": null,
   "id": "e732af3d-1bbd-4d57-bd3b-2c208e29a8a0",
   "metadata": {},
   "outputs": [],
   "source": []
  },
  {
   "cell_type": "code",
   "execution_count": null,
   "id": "d027c02d-2c0f-4b46-bbe8-4b2284b52564",
   "metadata": {},
   "outputs": [],
   "source": []
  }
 ],
 "metadata": {
  "kernelspec": {
   "display_name": "Python 3 (ipykernel)",
   "language": "python",
   "name": "python3"
  },
  "language_info": {
   "codemirror_mode": {
    "name": "ipython",
    "version": 3
   },
   "file_extension": ".py",
   "mimetype": "text/x-python",
   "name": "python",
   "nbconvert_exporter": "python",
   "pygments_lexer": "ipython3",
   "version": "3.11.7"
  }
 },
 "nbformat": 4,
 "nbformat_minor": 5
}
